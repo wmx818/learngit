{
 "cells": [
  {
   "cell_type": "markdown",
   "metadata": {},
   "source": [
    "# 北京金信网银金融信息服务有限公司\n",
    "\n",
    "# 冒烟指数监测预警平台\n",
    "\n",
    "---\n",
    "\n",
    "## *小组成员及学号：* \n",
    "\n",
    "- 王蓓：41904414\n",
    "\n",
    "- 莫景清：41904034\n",
    "\n",
    "- 王梦瑄：41904029\n",
    "\n",
    "- 洪心悦：41904408\n",
    "\n",
    "\n",
    "## *分工内容*\n",
    "\n",
    "- 王蓓：相关资料及文献的收集，并负责课堂展示\n",
    "\n",
    "- 莫景清 王梦瑄：对该金融科技公司业务形态、技术支持方面的整理分析，并制作PPT\n",
    "\n",
    "- 洪心悦：对同行业竞品的整理分析，并制作此模块的PPT\n",
    "\n",
    "## *得分比例*\n",
    "\n",
    "**1：1：1：1**   \n"
   ]
  },
  {
   "cell_type": "code",
   "execution_count": null,
   "metadata": {},
   "outputs": [],
   "source": []
  }
 ],
 "metadata": {
  "kernelspec": {
   "display_name": "Python 3",
   "language": "python",
   "name": "python3"
  },
  "language_info": {
   "codemirror_mode": {
    "name": "ipython",
    "version": 3
   },
   "file_extension": ".py",
   "mimetype": "text/x-python",
   "name": "python",
   "nbconvert_exporter": "python",
   "pygments_lexer": "ipython3",
   "version": "3.6.7"
  }
 },
 "nbformat": 4,
 "nbformat_minor": 2
}
